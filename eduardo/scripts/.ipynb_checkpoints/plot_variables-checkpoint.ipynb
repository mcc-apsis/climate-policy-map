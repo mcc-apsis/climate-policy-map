{
 "cells": [
  {
   "cell_type": "markdown",
   "metadata": {},
   "source": [
    "********** LOADING **********"
   ]
  },
  {
   "cell_type": "code",
   "execution_count": 1,
   "metadata": {},
   "outputs": [],
   "source": [
    "import matplotlib as mpl\n",
    "import matplotlib.pyplot as plt\n",
    "import cartopy.crs as ccrs\n",
    "import cartopy.io.shapereader as shpreader\n",
    "import pandas as pd\n",
    "import geopy\n",
    "import geopy.distance\n",
    "import numpy as np\n",
    "import shapely.vectorized\n",
    "import functions_policy_map as f"
   ]
  },
  {
   "cell_type": "code",
   "execution_count": 2,
   "metadata": {},
   "outputs": [],
   "source": [
    "geo = pd.read_csv('../data/geo_df.csv')\n",
    "data = pd.read_csv('../data/document_ratings.csv')"
   ]
  },
  {
   "cell_type": "markdown",
   "metadata": {},
   "source": [
    "********** ORGANIZING DATA **********"
   ]
  },
  {
   "cell_type": "code",
   "execution_count": 3,
   "metadata": {},
   "outputs": [],
   "source": [
    "# Filtering for countries of high confidence\n",
    "geo = geo[geo['country_conf'] > 0.8]\n",
    "geo = geo[pd.notnull(geo['country_predicted'])]\n",
    "geo.lat = geo.lat.astype(float)\n",
    "geo.lon = geo.lon.astype(float)\n",
    "\n",
    "# Creating the main dataset\n",
    "data_geo = pd.merge(data,geo,left_on=\"id\",right_on=\"doc_id\")\n",
    "indexNames = data_geo[(data_geo['seen'] == 1) & (data_geo['relevant']==0)].index\n",
    "data_geo.drop(indexNames, inplace=True)\n",
    "\n",
    "columns_to_drop = [c for c  in data_geo.columns if \"hidden\" in c]\n",
    "columns_to_drop.append(\"4 - Behavioral interventions\")\n",
    "data_geo.drop(columns_to_drop, 1, inplace=True)\n",
    "\n",
    "data_geo.reset_index(drop=True, inplace=True)"
   ]
  },
  {
   "cell_type": "markdown",
   "metadata": {},
   "source": [
    "********** ELIMINATE ARTICLES THAT HAVE BEEN PROBABLY COUNTRY-MISLABELED **********"
   ]
  },
  {
   "cell_type": "code",
   "execution_count": null,
   "metadata": {},
   "outputs": [],
   "source": [
    "exps_paris = ['Paris Agreement', 'Paris agreement', 'Paris outcome', 'ummit in Paris', 'Paris goal',\n",
    "              'Paris Goal', 'fter Paris', 'eyond Paris', 'oward Paris', 'hrough Paris', 'Paris pledges', 'COP21', 'COP 21'\n",
    "             'Paris Accord', 'Paris accord', 'Paris climate', 'Paris Climate', 'to Paris', 'ost-Paris', 'Paris target', 'Paris Summit', 'Paris summit',\n",
    "             'dopted in Paris']\n",
    "exps_rio = ['Rio Declaration', 'Rio Convention']\n",
    "exps_kyoto = ['Kyoto Protocol']\n",
    "exps_montreal = ['Montreal Protocol', 'Montréal Protocol']\n",
    "exps_copenhagen = ['Copenhagen Summit']\n",
    "\n",
    "data_geo = f.remove_mislabeled_rows(data_geo, 'FRA', exps_paris)\n",
    "data_geo = f.remove_mislabeled_rows(data_geo, 'BRA', exps_rio)\n",
    "data_geo = f.remove_mislabeled_rows(data_geo, 'JPN', exps_kyoto)\n",
    "data_geo = f.remove_mislabeled_rows(data_geo, 'CAN', exps_montreal)\n",
    "data_geo = f.remove_mislabeled_rows(data_geo, 'DNK', exps_copenhagen)"
   ]
  },
  {
   "cell_type": "markdown",
   "metadata": {},
   "source": [
    "********** PLOTTING **********"
   ]
  },
  {
   "cell_type": "code",
   "execution_count": null,
   "metadata": {
    "tags": []
   },
   "outputs": [],
   "source": [
    "f.plot_maps(data_geo)"
   ]
  }
 ],
 "metadata": {
  "kernelspec": {
   "display_name": "Python 3",
   "language": "python",
   "name": "python3"
  },
  "language_info": {
   "codemirror_mode": {
    "name": "ipython",
    "version": 3
   },
   "file_extension": ".py",
   "mimetype": "text/x-python",
   "name": "python",
   "nbconvert_exporter": "python",
   "pygments_lexer": "ipython3",
   "version": "3.7.7"
  }
 },
 "nbformat": 4,
 "nbformat_minor": 4
}
