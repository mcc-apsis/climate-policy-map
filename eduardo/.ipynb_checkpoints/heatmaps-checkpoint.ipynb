{
 "cells": [
  {
   "cell_type": "markdown",
   "metadata": {},
   "source": [
    "********** LOADING **********"
   ]
  },
  {
   "cell_type": "code",
   "execution_count": 1,
   "metadata": {},
   "outputs": [
    {
     "ename": "ModuleNotFoundError",
     "evalue": "No module named 'functions_policy_map'",
     "output_type": "error",
     "traceback": [
      "\u001b[1;31m---------------------------------------------------------------------------\u001b[0m",
      "\u001b[1;31mModuleNotFoundError\u001b[0m                       Traceback (most recent call last)",
      "\u001b[1;32m<ipython-input-1-41fda098ba94>\u001b[0m in \u001b[0;36m<module>\u001b[1;34m\u001b[0m\n\u001b[0;32m      4\u001b[0m \u001b[1;32mimport\u001b[0m \u001b[0mmatplotlib\u001b[0m\u001b[1;33m.\u001b[0m\u001b[0mpyplot\u001b[0m \u001b[1;32mas\u001b[0m \u001b[0mplt\u001b[0m\u001b[1;33m\u001b[0m\u001b[1;33m\u001b[0m\u001b[0m\n\u001b[0;32m      5\u001b[0m \u001b[1;32mimport\u001b[0m \u001b[0mspacy\u001b[0m\u001b[1;33m\u001b[0m\u001b[1;33m\u001b[0m\u001b[0m\n\u001b[1;32m----> 6\u001b[1;33m \u001b[1;32mimport\u001b[0m \u001b[0mfunctions_policy_map\u001b[0m \u001b[1;32mas\u001b[0m \u001b[0mf\u001b[0m\u001b[1;33m\u001b[0m\u001b[1;33m\u001b[0m\u001b[0m\n\u001b[0m",
      "\u001b[1;31mModuleNotFoundError\u001b[0m: No module named 'functions_policy_map'"
     ]
    }
   ],
   "source": [
    "import pandas as pd\n",
    "import numpy as np\n",
    "import seaborn as sns\n",
    "import matplotlib.pyplot as plt\n",
    "import spacy\n",
    "import functions_policy_map as f"
   ]
  },
  {
   "cell_type": "code",
   "execution_count": null,
   "metadata": {},
   "outputs": [],
   "source": [
    "# Document ratings\n",
    "df1 = pd.read_csv('data/document_ratings.csv')\n",
    "\n",
    "# Location data\n",
    "df2 = pd.read_csv('data/geo_df.csv')\n",
    "\n",
    "# Affiliation countries\n",
    "df3 = pd.read_csv('data/affiliation_countries.csv')\n",
    "\n",
    "# Country classification\n",
    "\n",
    "df4 = pd.read_excel('data/country_classification.xls', header=4)\n",
    "df4 = df4.iloc[1:219]\n",
    "df4 = df4[['Economy', 'Code', 'Income group']]\n",
    "df4.reset_index(drop=True, inplace=True)"
   ]
  },
  {
   "cell_type": "markdown",
   "metadata": {},
   "source": [
    "********** CREATING THE MAIN DATASET **********"
   ]
  },
  {
   "cell_type": "code",
   "execution_count": null,
   "metadata": {},
   "outputs": [],
   "source": [
    "df2 = df2[df2['country_conf'] > 0.8]\n",
    "df2 = df2[pd.notnull(df2['country_predicted'])]\n",
    "\n",
    "indexNames = df1[(df1['seen'] == 1) & (df1['relevant']==0)].index\n",
    "df1.drop(indexNames, inplace=True)\n",
    "df1.reset_index(drop=True, inplace=True)\n",
    "\n",
    "columns_to_drop = [c for c  in df1.columns if \"hidden\" in c]\n",
    "df1.drop(columns_to_drop, 1, inplace=True)\n",
    "\n",
    "# Creating the main dataset\n",
    "data = pd.merge(df1, df2, left_on='id', right_on='doc_id') # Document data + location data\n",
    "data = data.merge(df3, on='id') # Adding affiliation countries\n",
    "data = data.rename(columns={'country': 'aff_country'})\n",
    "data = pd.merge(data, df4, left_on='country_predicted', right_on='Code') # Adding country income group based on study location\n",
    "data = data.rename(columns={'Income group': 'loc_income_group'})"
   ]
  },
  {
   "cell_type": "markdown",
   "metadata": {},
   "source": [
    "********** CLEANING THE DATASET **********"
   ]
  },
  {
   "cell_type": "code",
   "execution_count": null,
   "metadata": {},
   "outputs": [],
   "source": [
    "# Defining word combinations that may cause mislabeling of an article based on title or abstract\n",
    "paris_combinations = ['ummit in Paris', 'Paris Climate' 'Paris climate', 'COP 21', 'COP21', 'Paris outcome', 'Paris targets', 'Paris goals',\n",
    "                      'fter Paris', 'eyond Paris', 'oward Paris', 'Paris Accord', 'Paris accord', 'Paris Agreement', 'Paris agreement',\n",
    "                      'ost-Paris', 'Paris Commitments', 'Paris commitments']\n",
    "rio_combinations = ['Rio']\n",
    "copenhaguen_combinations = []\n",
    "kyoto_combinations = []\n",
    "marrakesh_combinations = []\n",
    "montreal_combinations = []"
   ]
  },
  {
   "cell_type": "code",
   "execution_count": null,
   "metadata": {},
   "outputs": [],
   "source": [
    "# Removing articles that may be mislabeled because of specific word combinations\n",
    "#data = remove_mislabeled_rows(data, 'FRA', paris_combinations)\n",
    "data = remove_mislabeled_rows(data, 'BRA', rio_combinations)\n",
    "#data = remove_mislabeled_rows(data, 'DNK', copenhaguen_combinations)\n",
    "#data = remove_mislabeled_rows(data, 'JPN', kyoto_combinations)\n",
    "#data = remove_mislabeled_rows(data, 'MAR', marrakesh_combinations)\n",
    "#data = remove_mislabeled_rows(data, 'CAN', montreal_combinatios)"
   ]
  },
  {
   "cell_type": "code",
   "execution_count": null,
   "metadata": {},
   "outputs": [],
   "source": [
    "data"
   ]
  },
  {
   "cell_type": "code",
   "execution_count": null,
   "metadata": {},
   "outputs": [],
   "source": [
    "def remove_mislabeled_rows(df, country_code, associations, country_col='country_predicted'):\n",
    "    # Country-exclusive data    \n",
    "    dat_country = filter_by_country(df, country_code, country_col)\n",
    "    # Removing country data from the total\n",
    "    #data = df[df[country_col]!=country_code]\n",
    "    \n",
    "    #inds_to_drop = []\n",
    "    for exp in associations:\n",
    "        for i in range(0, len(dat_country)):\n",
    "            title = dat_country.iloc[i]['title']\n",
    "            if exp in title:\n",
    "                print(title)\n",
    "                #inds_to_drop.append(i)\n",
    "            else:\n",
    "                abstract = dat_country.iloc[i]['content']\n",
    "                if exp in abstract:\n",
    "                    print(abstract)\n",
    "    #dat_country = dat_country.drop(index=inds_to_drop)\n",
    "    #data = pd.concat([data, dat_country])\n",
    "    #data = data.sort_values(by=['id']).reset_index(drop=True)\n",
    "    #return data    "
   ]
  },
  {
   "cell_type": "code",
   "execution_count": null,
   "metadata": {},
   "outputs": [],
   "source": [
    "********** CREATING A DICTIONARY OF COUNTRY NAME CONVERSIONS **********"
   ]
  },
  {
   "cell_type": "code",
   "execution_count": null,
   "metadata": {},
   "outputs": [],
   "source": [
    "# Creating the dictionary (dictionary already created, so no need to call anymore)\n",
    "# f.determine_mismatches(data)\n",
    "# Country dictionary:\n",
    "country_codes = {'Taiwan': 'TWN', 'South Korea': 'KOR', 'Laos': 'LAO', 'Iran': 'IRN', 'Syria': 'SYR', 'Macedonia': 'MKD', 'Czechia': 'CZE', 'Russia': 'RUS', 'Slovakia': 'SVK', 'Venezuela': 'VEN', 'Egypt': 'EGY', 'Swaziland': 'SWZ', 'French Guiana': 'FRA', 'Ivory Coast': 'CIV', 'Yemen': 'YEM', 'Democratic Republic of the Congo': 'COD', 'Micronesia': 'FSM', 'Kyrgyzstan': 'KGZ', 'Martinique': 'FRA', 'Bahamas': 'BHS', 'Saint Vincent and the Grenadines': 'VCT', 'Netherlands Antilles': 'NLD', 'Reunion': 'FRA', 'Republic of the Congo': 'COG', 'Brunei': 'BRN', 'Palestinian Territory': 'PSE', 'Cape Verde': 'CPV', 'Saint Kitts and Nevis': 'KNA', 'North Korea': 'PRK', 'Gambia': 'GMB', 'Afghanistan': 'AFG', 'Albania': 'ALB', 'Algeria': 'DZA', 'American Samoa': 'ASM', 'Andorra': 'AND', 'Angola': 'AGO', 'Antigua and Barbuda': 'ATG', 'Argentina': 'ARG', 'Armenia': 'ARM', 'Aruba': 'ABW', 'Australia': 'AUS', 'Austria': 'AUT', 'Azerbaijan': 'AZE', 'Bahamas, The': 'BHS', 'Bahrain': 'BHR', 'Bangladesh': 'BGD', 'Barbados': 'BRB', 'Belarus': 'BLR', 'Belgium': 'BEL', 'Belize': 'BLZ', 'Benin': 'BEN', 'Bermuda': 'BMU', 'Bhutan': 'BTN', 'Bolivia': 'BOL', 'Bosnia and Herzegovina': 'BIH', 'Botswana': 'BWA', 'Brazil': 'BRA', 'British Virgin Islands': 'VGB', 'Brunei Darussalam': 'BRN', 'Bulgaria': 'BGR', 'Burkina Faso': 'BFA', 'Burundi': 'BDI', 'Cabo Verde': 'CPV', 'Cambodia': 'KHM', 'Cameroon': 'CMR', 'Canada': 'CAN', 'Cayman Islands': 'CYM', 'Central African Republic': 'CAF', 'Chad': 'TCD', 'Channel Islands': 'CHI', 'Chile': 'CHL', 'China': 'CHN', 'Colombia': 'COL', 'Comoros': 'COM', 'Congo, Dem. Rep.': 'COD', 'Congo, Rep.': 'COG', 'Costa Rica': 'CRI', \"Côte d'Ivoire\": 'CIV', 'Croatia': 'HRV', 'Cuba': 'CUB', 'Curaçao': 'CUW', 'Cyprus': 'CYP', 'Czech Republic': 'CZE', 'Denmark': 'DNK', 'Djibouti': 'DJI', 'Dominica': 'DMA', 'Dominican Republic': 'DOM', 'Ecuador': 'ECU', 'Egypt, Arab Rep.': 'EGY', 'El Salvador': 'SLV', 'Equatorial Guinea': 'GNQ', 'Eritrea': 'ERI', 'Estonia': 'EST', 'Eswatini': 'SWZ', 'Ethiopia': 'ETH', 'Faroe Islands': 'FRO', 'Fiji': 'FJI', 'Finland': 'FIN', 'France': 'FRA', 'French Polynesia': 'PYF', 'Gabon': 'GAB', 'Gambia, The': 'GMB', 'Georgia': 'GEO', 'Germany': 'DEU', 'Ghana': 'GHA', 'Gibraltar': 'GIB', 'Greece': 'GRC', 'Greenland': 'GRL', 'Grenada': 'GRD', 'Guam': 'GUM', 'Guatemala': 'GTM', 'Guinea': 'GIN', 'Guinea-Bissau': 'GNB', 'Guyana': 'GUY', 'Haiti': 'HTI', 'Honduras': 'HND', 'Hong Kong SAR, China': 'HKG', 'Hungary': 'HUN', 'Iceland': 'ISL', 'India': 'IND', 'Indonesia': 'IDN', 'Iran, Islamic Rep.': 'IRN', 'Iraq': 'IRQ', 'Ireland': 'IRL', 'Isle of Man': 'IMN', 'Israel': 'ISR', 'Italy': 'ITA', 'Jamaica': 'JAM', 'Japan': 'JPN', 'Jordan': 'JOR', 'Kazakhstan': 'KAZ', 'Kenya': 'KEN', 'Kiribati': 'KIR', \"Korea, Dem. People's Rep.\": 'PRK', 'Korea, Rep.': 'KOR', 'Kosovo': 'XKX', 'Kuwait': 'KWT', 'Kyrgyz Republic': 'KGZ', 'Lao PDR': 'LAO', 'Latvia': 'LVA', 'Lebanon': 'LBN', 'Lesotho': 'LSO', 'Liberia': 'LBR', 'Libya': 'LBY', 'Liechtenstein': 'LIE', 'Lithuania': 'LTU', 'Luxembourg': 'LUX', 'Macao SAR, China': 'MAC', 'Madagascar': 'MDG', 'Malawi': 'MWI', 'Malaysia': 'MYS', 'Maldives': 'MDV', 'Mali': 'MLI', 'Malta': 'MLT', 'Marshall Islands': 'MHL', 'Mauritania': 'MRT', 'Mauritius': 'MUS', 'Mexico': 'MEX', 'Micronesia, Fed. Sts.': 'FSM', 'Moldova': 'MDA', 'Monaco': 'MCO', 'Mongolia': 'MNG', 'Montenegro': 'MNE', 'Morocco': 'MAR', 'Mozambique': 'MOZ', 'Myanmar': 'MMR', 'Namibia': 'NAM', 'Nauru': 'NRU', 'Nepal': 'NPL', 'Netherlands': 'NLD', 'New Caledonia': 'NCL', 'New Zealand': 'NZL', 'Nicaragua': 'NIC', 'Niger': 'NER', 'Nigeria': 'NGA', 'North Macedonia': 'MKD', 'Northern Mariana Islands': 'MNP', 'Norway': 'NOR', 'Oman': 'OMN', 'Pakistan': 'PAK', 'Palau': 'PLW', 'Panama': 'PAN', 'Papua New Guinea': 'PNG', 'Paraguay': 'PRY', 'Peru': 'PER', 'Philippines': 'PHL', 'Poland': 'POL', 'Portugal': 'PRT', 'Puerto Rico': 'PRI', 'Qatar': 'QAT', 'Romania': 'ROU', 'Russian Federation': 'RUS', 'Rwanda': 'RWA', 'Samoa': 'WSM', 'San Marino': 'SMR', 'São Tomé and Principe': 'STP', 'Saudi Arabia': 'SAU', 'Senegal': 'SEN', 'Serbia': 'SRB', 'Seychelles': 'SYC', 'Sierra Leone': 'SLE', 'Singapore': 'SGP', 'Sint Maarten (Dutch part)': 'SXM', 'Slovak Republic': 'SVK', 'Slovenia': 'SVN', 'Solomon Islands': 'SLB', 'Somalia': 'SOM', 'South Africa': 'ZAF', 'South Sudan': 'SSD', 'Spain': 'ESP', 'Sri Lanka': 'LKA', 'St. Kitts and Nevis': 'KNA', 'St. Lucia': 'LCA', 'St. Martin (French part)': 'MAF', 'St. Vincent and the Grenadines': 'VCT', 'Sudan': 'SDN', 'Suriname': 'SUR', 'Sweden': 'SWE', 'Switzerland': 'CHE', 'Syrian Arab Republic': 'SYR', 'Taiwan, China': 'TWN', 'Tajikistan': 'TJK', 'Tanzania': 'TZA', 'Thailand': 'THA', 'Timor-Leste': 'TLS', 'Togo': 'TGO', 'Tonga': 'TON', 'Trinidad and Tobago': 'TTO', 'Tunisia': 'TUN', 'Turkey': 'TUR', 'Turkmenistan': 'TKM', 'Turks and Caicos Islands': 'TCA', 'Tuvalu': 'TUV', 'Uganda': 'UGA', 'Ukraine': 'UKR', 'United Arab Emirates': 'ARE', 'United Kingdom': 'GBR', 'United States': 'USA', 'Uruguay': 'URY', 'Uzbekistan': 'UZB', 'Vanuatu': 'VUT', 'Venezuela, RB': 'VEN', 'Vietnam': 'VNM', 'Virgin Islands (U.S.)': 'VIR', 'West Bank and Gaza': 'PSE', 'Yemen, Rep.': 'YEM', 'Zambia': 'ZMB', 'Zimbabwe': 'ZWE'}"
   ]
  },
  {
   "cell_type": "code",
   "execution_count": null,
   "metadata": {},
   "outputs": [],
   "source": []
  },
  {
   "cell_type": "code",
   "execution_count": null,
   "metadata": {},
   "outputs": [],
   "source": [
    "data['aff_country_code'] = ['']*len(data)\n",
    "i = 0\n",
    "while i < len(data):\n",
    "    country = data['aff_country'][i]\n",
    "    data.at[i, 'aff_country_code'] = country_codes[country]\n",
    "    i = i+1"
   ]
  },
  {
   "cell_type": "code",
   "execution_count": null,
   "metadata": {},
   "outputs": [],
   "source": [
    "data = pd.merge(data, df4, left_on='aff_country_code', right_on='Code') # Adding country income group based on study affiliation\n",
    "data = data.rename(columns={'Income group': 'aff_income_group'})"
   ]
  },
  {
   "cell_type": "markdown",
   "metadata": {},
   "source": [
    "\\\\\\\\\\\\\\\\\\\\ FUNCTIONS"
   ]
  },
  {
   "cell_type": "markdown",
   "metadata": {},
   "source": [
    "A. Data manipulation"
   ]
  },
  {
   "cell_type": "code",
   "execution_count": null,
   "metadata": {},
   "outputs": [],
   "source": [
    "# Copied from the plot_variables notebook.\n",
    "def merge_columns(df, col, col_pred):\n",
    "    \"\"\"Creates a dataframe with a merged human/prediction column.\n",
    "\n",
    "    Args:\n",
    "        df (DataFrame): The input dataframe (combined document ratings and geo data).\n",
    "        col (str): Name of the column that contains the variable.\n",
    "        col_pred (str): Name of the column with the predicted variable.\n",
    "\n",
    "    Returns:\n",
    "        A modified dataframe with a column that has the predicted values if the paper was not seen by a human, and the \"human\" values if the paper was seen. The column has the same name of the variable.\n",
    "    \"\"\"\n",
    "    \n",
    "    data = df.copy()\n",
    "    data['human'] = data[col] # This creates a copy of human data under the \"human\" header\n",
    "    data[col] = data[col_pred] # This replaces the column of interest (human data) with predicted data\n",
    "    \n",
    "    i = 0\n",
    "    while(i < len(data)):\n",
    "        if data['seen'].iloc[i] == 1:\n",
    "            data.at[i, col] = data['human'].iloc[i] # This replaces the predicted data, which is under the \"column of interest\" header, with the human data from the copied column.\n",
    "        i = i + 1\n",
    "\n",
    "    return data"
   ]
  },
  {
   "cell_type": "code",
   "execution_count": null,
   "metadata": {},
   "outputs": [],
   "source": [
    "# Copied from the plot_variables notebook.\n",
    "def create_list_of_predicted_categories(df):\n",
    "    \"\"\"Creates a list with all categories in the dataframe and a list with categories of the dataframe that have predictions.\n",
    "\n",
    "    Args:\n",
    "        df (DataFrame): The input dataframe (combined document ratings and geo data).\n",
    "\n",
    "    Returns:\n",
    "        all_cats: A list with all categories in the dataframe.\n",
    "        pred_cats: A list with categories that have predictions.\n",
    "    \"\"\"\n",
    "    data = df.copy()\n",
    "    \n",
    "    all_cats = [c for c  in data.columns if \"-\" in c and \"prediction\" not in c] # This list contains all variable columns.\n",
    "    preds = [c for c in data.columns if \"prediction\" in c] # This list contains all columns that are predictions.\n",
    "    pred_cats = []\n",
    "    for c in all_cats:\n",
    "        for p in preds:\n",
    "            if c in p:\n",
    "                pred_cats.append(c)\n",
    "    return all_cats, pred_cats"
   ]
  },
  {
   "cell_type": "code",
   "execution_count": null,
   "metadata": {},
   "outputs": [],
   "source": [
    "all_cats, pred_cats = create_list_of_predicted_categories(data)"
   ]
  },
  {
   "cell_type": "markdown",
   "metadata": {},
   "source": [
    "B. Plotting"
   ]
  },
  {
   "cell_type": "markdown",
   "metadata": {},
   "source": [
    "\\\\\\\\\\\\\\\\\\\\ CREATING THE ARRAYS FOR THE HEATMAPS"
   ]
  },
  {
   "cell_type": "code",
   "execution_count": null,
   "metadata": {},
   "outputs": [],
   "source": [
    "# Creating merged human-prediction columns both for mitigation and adaptation\n",
    "data = merge_columns(data, '1 - Adaptation', '1 - Adaptation - prediction')\n",
    "data = merge_columns(data, '1 - Mitigation', '1 - Mitigation - prediction')"
   ]
  },
  {
   "cell_type": "code",
   "execution_count": null,
   "metadata": {},
   "outputs": [],
   "source": [
    "# Creating merged human-prediction columns for variables of the third and fourth levels\n",
    "data = merge_columns(data, '3 - Economic instruments', '3 - Economic instruments - prediction')\n",
    "data = merge_columns(data, '3 - Goal setting', '3 - Goal setting - prediction')\n",
    "data = merge_columns(data, '3 - Information policies', '3 - Information policies - prediction')\n",
    "data = merge_columns(data, '3 - International policies', '3 - International policies - prediction')\n",
    "data = merge_columns(data, '3 - Planning and public provisioning/services', '3 - Planning and public provisioning/services - prediction')\n",
    "data = merge_columns(data, '3 - Regulatory instruments', '3 - Regulatory instruments - prediction')\n",
    "data = merge_columns(data, '3 - Voluntary actions', '3 - Voluntary actions - prediction')"
   ]
  },
  {
   "cell_type": "code",
   "execution_count": null,
   "metadata": {},
   "outputs": [],
   "source": [
    "order_of_countries = ['Low income', 'Lower middle income', 'Upper middle income', 'High income']"
   ]
  },
  {
   "cell_type": "code",
   "execution_count": null,
   "metadata": {},
   "outputs": [],
   "source": [
    "# Type of study (mitigation, prediction) vs. location country income group\n",
    "type_vs_loc_group = data[['loc_income_group', '1 - Adaptation', '1 - Mitigation']]\n",
    "type_vs_loc_group = type_vs_loc_group.groupby(['loc_income_group']).sum()\n",
    "type_vs_loc_group = type_vs_loc_group.reindex(order_of_countries)\n",
    "type_vs_loc_group.head()"
   ]
  },
  {
   "cell_type": "code",
   "execution_count": null,
   "metadata": {},
   "outputs": [],
   "source": [
    "# Type of study (mitigation, prediction) vs. Affiliation country income group\n",
    "type_vs_aff_group = data[['aff_income_group', '1 - Adaptation', '1 - Mitigation']]\n",
    "type_vs_aff_group = type_vs_aff_group.groupby(['aff_income_group']).sum()\n",
    "type_vs_aff_group = type_vs_aff_group.reindex(order_of_countries)\n",
    "type_vs_aff_group.head()"
   ]
  },
  {
   "cell_type": "code",
   "execution_count": null,
   "metadata": {},
   "outputs": [],
   "source": [
    "# Location country vs. affiliation country, adaptation\n",
    "loc_vs_aff_adap = data[['1 - Adaptation', 'loc_income_group', 'aff_income_group']]\n",
    "loc_vs_aff_adap = loc_vs_aff_adap.pivot_table(index='aff_income_group', columns='loc_income_group', values='1 - Adaptation', aggfunc=sum)\n",
    "loc_vs_aff_adap = loc_vs_aff_adap.reindex(order_of_countries)\n",
    "loc_vs_aff_adap = loc_vs_aff_adap.reindex(order_of_countries, axis='columns')\n",
    "loc_vs_aff_adap.head()"
   ]
  },
  {
   "cell_type": "code",
   "execution_count": null,
   "metadata": {},
   "outputs": [],
   "source": [
    "# Location country vs. affiliation country, mitigation\n",
    "loc_vs_aff_miti = data[['1 - Mitigation', 'loc_income_group', 'aff_income_group']]\n",
    "loc_vs_aff_miti = loc_vs_aff_miti.pivot_table(index='aff_income_group', columns='loc_income_group', values='1 - Mitigation', aggfunc=sum)\n",
    "loc_vs_aff_miti = loc_vs_aff_miti.reindex(order_of_countries)\n",
    "loc_vs_aff_miti = loc_vs_aff_miti.reindex(order_of_countries, axis='columns')\n",
    "loc_vs_aff_miti.head()"
   ]
  },
  {
   "cell_type": "code",
   "execution_count": null,
   "metadata": {},
   "outputs": [],
   "source": [
    "# Location country vs. level 3 categories\n",
    "loc_vs_lev3 = data[[c for c  in data.columns if ('3 -' in c and 'prediction' not in c) or ('loc_income_group' in c)]]\n",
    "loc_vs_lev3 = loc_vs_lev3.groupby(['loc_income_group']).sum()\n",
    "loc_vs_lev3 = loc_vs_lev3.transpose()\n",
    "loc_vs_lev3 = loc_vs_lev3.reindex(order_of_countries, axis='columns')\n",
    "loc_vs_lev3"
   ]
  },
  {
   "cell_type": "code",
   "execution_count": null,
   "metadata": {},
   "outputs": [],
   "source": [
    "# Affiliation country vs. level 3 categories\n",
    "aff_vs_lev3 = data[[c for c  in data.columns if ('3 -' in c and 'prediction' not in c) or ('aff_income_group' in c)]]\n",
    "aff_vs_lev3 = aff_vs_lev3.groupby(['aff_income_group']).sum()\n",
    "aff_vs_lev3 = aff_vs_lev3.transpose()\n",
    "aff_vs_lev3 = aff_vs_lev3.reindex(order_of_countries, axis='columns')\n",
    "aff_vs_lev3"
   ]
  },
  {
   "cell_type": "code",
   "execution_count": null,
   "metadata": {},
   "outputs": [],
   "source": [
    "# Location country vs. level 4 categories\n",
    "loc_vs_lev4 = data[[c for c  in data.columns if ('4 -' in c and 'prediction' not in c) or ('loc_income_group' in c)]]\n",
    "loc_vs_lev4 = loc_vs_lev4.groupby(['loc_income_group']).sum()\n",
    "loc_vs_lev4 = loc_vs_lev4.transpose()\n",
    "loc_vs_lev4 = loc_vs_lev4.reindex(order_of_countries, axis='columns')\n",
    "loc_vs_lev4"
   ]
  },
  {
   "cell_type": "code",
   "execution_count": null,
   "metadata": {},
   "outputs": [],
   "source": [
    "# Affiliation country vs. level 4 categories\n",
    "aff_vs_lev4 = data[[c for c  in data.columns if ('4 -' in c and 'prediction' not in c) or ('aff_income_group' in c)]]\n",
    "aff_vs_lev4 = aff_vs_lev4.groupby(['aff_income_group']).sum()\n",
    "aff_vs_lev4 = aff_vs_lev4.transpose()\n",
    "aff_vs_lev4 = aff_vs_lev4.reindex(order_of_countries, axis='columns')\n",
    "aff_vs_lev4"
   ]
  },
  {
   "cell_type": "markdown",
   "metadata": {},
   "source": [
    "\\\\\\\\\\\\\\\\\\\\ NORMALIZING THE ARRAYS FOR THE HEATMAPS"
   ]
  },
  {
   "cell_type": "code",
   "execution_count": null,
   "metadata": {},
   "outputs": [],
   "source": [
    "type_vs_loc_group_norm_col = type_vs_loc_group/type_vs_loc_group.sum(axis=0)\n",
    "type_vs_loc_group_norm_row = type_vs_loc_group.div(type_vs_loc_group.sum(axis=1), axis=0)\n",
    "\n",
    "type_vs_aff_group_norm_col = type_vs_aff_group/type_vs_aff_group.sum(axis=0)\n",
    "type_vs_aff_group_norm_row = type_vs_aff_group.div(type_vs_aff_group.sum(axis=1), axis=0)\n",
    "\n",
    "loc_vs_aff_adap_norm_col = loc_vs_aff_adap/loc_vs_aff_adap.sum(axis=0)\n",
    "loc_vs_aff_adap_norm_row = loc_vs_aff_adap.div(loc_vs_aff_adap.sum(axis=1), axis=0)\n",
    "\n",
    "loc_vs_aff_miti_norm_col = loc_vs_aff_miti/loc_vs_aff_miti.sum(axis=0)\n",
    "loc_vs_aff_miti_norm_row = loc_vs_aff_miti.div(loc_vs_aff_miti.sum(axis=1), axis=0)\n",
    "\n",
    "loc_vs_lev3_norm_col = loc_vs_lev3/loc_vs_lev3.sum(axis=0)\n",
    "loc_vs_lev3_norm_row = loc_vs_lev3.div(loc_vs_lev3.sum(axis=1), axis=0)\n",
    "\n",
    "aff_vs_lev3_norm_col = aff_vs_lev3/aff_vs_lev3.sum(axis=0)\n",
    "aff_vs_lev3_norm_row = aff_vs_lev3.div(aff_vs_lev3.sum(axis=1), axis=0)\n",
    "\n",
    "loc_vs_lev4_norm_col = loc_vs_lev4/loc_vs_lev4.sum(axis=0)\n",
    "loc_vs_lev4_norm_row = loc_vs_lev4.div(loc_vs_lev4.sum(axis=1), axis=0)\n",
    "loc_vs_lev4_norm_row.fillna(value=0, inplace=True)\n",
    "\n",
    "aff_vs_lev4_norm_col = aff_vs_lev4/aff_vs_lev4.sum(axis=0)\n",
    "aff_vs_lev4_norm_row = aff_vs_lev4.div(aff_vs_lev4.sum(axis=1), axis=0)\n",
    "aff_vs_lev4_norm_row.fillna(value=0, inplace=True)"
   ]
  },
  {
   "cell_type": "markdown",
   "metadata": {},
   "source": [
    "\\\\\\\\\\\\\\\\\\\\ PLOTTING"
   ]
  },
  {
   "cell_type": "markdown",
   "metadata": {},
   "source": [
    "A1. Type of study vs. country by income (with shared color bars)"
   ]
  },
  {
   "cell_type": "code",
   "execution_count": null,
   "metadata": {},
   "outputs": [],
   "source": [
    "xticks = ['Adaptation', 'Mitigation']\n",
    "yticks = ['Low', 'Lower\\nmiddle', 'Upper\\nmiddle', 'High']\n",
    "\n",
    "fig, ax = plt.subplots(nrows=3, ncols=3, gridspec_kw={'width_ratios': [5, 5, 1]}, figsize=(8.3,11.7))\n",
    "\n",
    "sns.heatmap(type_vs_loc_group, annot=np.array(type_vs_loc_group, dtype=int), fmt='d', ax=ax[0][0], yticklabels=yticks, xticklabels=False, cmap='YlGnBu', vmin=0, vmax=47000, cbar=0)\n",
    "ax[0][0].set_title('Study Location')\n",
    "ax[0][0].set_ylabel('Country Income')\n",
    "\n",
    "sns.heatmap(type_vs_loc_group_norm_col, annot=np.array(type_vs_loc_group, dtype=int), fmt='d', ax=ax[1][0], yticklabels=yticks, xticklabels=False, cmap='YlGnBu', vmin=0, vmax=1, cbar=0)\n",
    "ax[1][0].set_title('Normalised by Study Type')\n",
    "ax[1][0].set_ylabel('Country Income')\n",
    "\n",
    "sns.heatmap(type_vs_loc_group_norm_row, annot=np.array(type_vs_loc_group, dtype=int), fmt='d', ax=ax[2][0], yticklabels=yticks, xticklabels=xticks, cmap='YlGnBu', vmin=0, vmax=1, cbar=0)\n",
    "ax[2][0].set_title('Normalised by Country Income')\n",
    "ax[2][0].set_ylabel('Country Income')\n",
    "ax[2][0].set_xlabel('Study Type')\n",
    "\n",
    "sns.heatmap(type_vs_aff_group, annot=np.array(type_vs_aff_group, dtype=int), fmt='d', ax=ax[0][1], xticklabels=False, yticklabels=False, cmap='YlGnBu', vmin=0, vmax=47000, cbar_ax=ax[0][2])\n",
    "ax[0][1].set_title('Study Affiliation')\n",
    "ax[0][1].set_ylabel('')\n",
    "\n",
    "sns.heatmap(type_vs_aff_group_norm_col, annot=np.array(type_vs_aff_group, dtype=int), fmt='d', ax=ax[1][1], xticklabels=False, yticklabels=False, cmap='YlGnBu', vmin=0, vmax=1, cbar_ax=ax[1][2])\n",
    "ax[1][1].set_title('Normalised by Study Type')\n",
    "ax[1][1].set_ylabel('')\n",
    "\n",
    "sns.heatmap(type_vs_aff_group_norm_row, annot=np.array(type_vs_aff_group, dtype=int), fmt='d', ax=ax[2][1], xticklabels=xticks, yticklabels=False, cmap='YlGnBu', vmin=0, vmax=1, cbar_ax=ax[2][2])\n",
    "ax[2][1].set_title('Normalised by Country Income')\n",
    "ax[2][1].set_ylabel('')\n",
    "ax[2][1].set_xlabel('Study Type')\n",
    "\n",
    "ax[0][2].set_aspect(aspect=15)\n",
    "ax[1][2].set_aspect(aspect=15)\n",
    "ax[2][2].set_aspect(aspect=15)\n",
    "\n",
    "plt.tight_layout()#pad=0.4, w_pad=0.5, h_pad=1.0)\n",
    "plt.savefig('plots/heatmaps/loc_aff_vs_study_type_shared_bars.pdf')"
   ]
  },
  {
   "cell_type": "markdown",
   "metadata": {},
   "source": [
    "A2. Type of study vs. country by income (without shared color bars)"
   ]
  },
  {
   "cell_type": "code",
   "execution_count": null,
   "metadata": {},
   "outputs": [],
   "source": [
    "xticks = ['Adaptation', 'Mitigation']\n",
    "yticks = ['Low', 'Lower\\nmiddle', 'Upper\\nmiddle', 'High']\n",
    "\n",
    "fig, ax = plt.subplots(nrows=3, ncols=2, gridspec_kw={'width_ratios': [5, 5]}, figsize=(8.3,11.7))\n",
    "\n",
    "sns.heatmap(type_vs_loc_group, annot=np.array(type_vs_loc_group, dtype=int), fmt='d', ax=ax[0][0], yticklabels=yticks, xticklabels=False, cmap='YlGnBu', vmin=0, vmax=type_vs_loc_group.max().max())\n",
    "ax[0][0].set_title('Study Location')\n",
    "ax[0][0].set_ylabel('Country Income')\n",
    "\n",
    "sns.heatmap(type_vs_loc_group_norm_col, annot=np.array(type_vs_loc_group, dtype=int), fmt='d', ax=ax[1][0], yticklabels=yticks, xticklabels=False, cmap='YlGnBu', vmin=0, vmax=type_vs_loc_group_norm_col.max().max())\n",
    "ax[1][0].set_title('Normalised by Study Type')\n",
    "ax[1][0].set_ylabel('Country Income')\n",
    "\n",
    "sns.heatmap(type_vs_loc_group_norm_row, annot=np.array(type_vs_loc_group, dtype=int), fmt='d', ax=ax[2][0], yticklabels=yticks, xticklabels=xticks, cmap='YlGnBu', vmin=0, vmax=type_vs_loc_group_norm_row.max().max())\n",
    "ax[2][0].set_title('Normalised by Country Income')\n",
    "ax[2][0].set_ylabel('Country Income')\n",
    "ax[2][0].set_xlabel('Study Type')\n",
    "\n",
    "sns.heatmap(type_vs_aff_group, annot=np.array(type_vs_aff_group, dtype=int), fmt='d', ax=ax[0][1], xticklabels=False, yticklabels=False, cmap='YlGnBu', vmin=0, vmax=type_vs_aff_group.max().max())\n",
    "ax[0][1].set_title('Study Affiliation')\n",
    "ax[0][1].set_ylabel('')\n",
    "\n",
    "sns.heatmap(type_vs_aff_group_norm_col, annot=np.array(type_vs_aff_group, dtype=int), fmt='d', ax=ax[1][1], xticklabels=False, yticklabels=False, cmap='YlGnBu', vmin=0, vmax=type_vs_aff_group_norm_col.max().max())\n",
    "ax[1][1].set_title('Normalised by Study Type')\n",
    "ax[1][1].set_ylabel('')\n",
    "\n",
    "sns.heatmap(type_vs_aff_group_norm_row, annot=np.array(type_vs_aff_group, dtype=int), fmt='d', ax=ax[2][1], xticklabels=xticks, yticklabels=False, cmap='YlGnBu', vmin=0, vmax=type_vs_aff_group_norm_row.max().max())\n",
    "ax[2][1].set_title('Normalised by Country Income')\n",
    "ax[2][1].set_ylabel('')\n",
    "ax[2][1].set_xlabel('Study Type')\n",
    "\n",
    "plt.tight_layout()#pad=0.4, w_pad=0.5, h_pad=1.0)\n",
    "plt.savefig('plots/heatmaps/loc_aff_vs_study_type.pdf')"
   ]
  },
  {
   "cell_type": "markdown",
   "metadata": {},
   "source": [
    "B1. Location country by income vs. affiliation country by income (with shared color bars)"
   ]
  },
  {
   "cell_type": "code",
   "execution_count": null,
   "metadata": {},
   "outputs": [],
   "source": [
    "ticks = ['Low', 'Lower\\nmiddle', 'Upper\\nmiddle', 'High']\n",
    "\n",
    "fig, ax = plt.subplots(nrows=3, ncols=3, gridspec_kw={'width_ratios': [5, 5, 1]}, figsize=(8.3,11.7))\n",
    "\n",
    "sns.heatmap(loc_vs_aff_adap, annot=np.array(loc_vs_aff_adap, dtype=int), fmt='d', ax=ax[0][0], yticklabels=ticks, xticklabels=False, cmap='YlGnBu', vmin=0, vmax=36000, cbar=0)\n",
    "ax[0][0].set_title('Adaptation Studies')\n",
    "ax[0][0].set_ylabel('Affiliation Country Income')\n",
    "ax[0][0].set_xlabel('')\n",
    "\n",
    "sns.heatmap(loc_vs_aff_adap_norm_col, annot=np.array(loc_vs_aff_adap, dtype=int), fmt='d', ax=ax[1][0], yticklabels=ticks, xticklabels=False, cmap='YlGnBu', vmin=0, vmax=1, cbar=0)\n",
    "ax[1][0].set_title('Normalised by Location Country')\n",
    "ax[1][0].set_ylabel('Affiliation Country Income')\n",
    "ax[1][0].set_xlabel('')\n",
    "\n",
    "sns.heatmap(loc_vs_aff_adap_norm_row, annot=np.array(loc_vs_aff_adap, dtype=int), fmt='d', ax=ax[2][0], yticklabels=ticks, xticklabels=ticks, cmap='YlGnBu', vmin=0, vmax=1, cbar=0)\n",
    "ax[2][0].set_title('Normalised by Affiliation Country')\n",
    "ax[2][0].set_ylabel('Affiliation Country Income')\n",
    "ax[2][0].set_xlabel('Location Country Income')\n",
    "\n",
    "sns.heatmap(loc_vs_aff_miti, annot=np.array(loc_vs_aff_miti, dtype=int), fmt='d', ax=ax[0][1], xticklabels=False, yticklabels=False, cmap='YlGnBu', vmin=0, vmax=36000, cbar_ax=ax[0][2])\n",
    "ax[0][1].set_title('Mitigation Studies')\n",
    "ax[0][1].set_ylabel('')\n",
    "ax[0][1].set_xlabel('')\n",
    "\n",
    "sns.heatmap(loc_vs_aff_miti_norm_col, annot=np.array(loc_vs_aff_miti, dtype=int), fmt='d', ax=ax[1][1], xticklabels=False, yticklabels=False, cmap='YlGnBu', vmin=0, vmax=1, cbar_ax=ax[1][2])\n",
    "ax[1][1].set_title('Normalised by Location Country')\n",
    "ax[1][1].set_ylabel('')\n",
    "ax[1][1].set_xlabel('')\n",
    "\n",
    "sns.heatmap(loc_vs_aff_miti_norm_row, annot=np.array(loc_vs_aff_miti, dtype=int), fmt='d', ax=ax[2][1], xticklabels=ticks, yticklabels=False, cmap='YlGnBu', vmin=0, vmax=1, cbar_ax=ax[2][2])\n",
    "ax[2][1].set_title('Normalised by Affiliation Country')\n",
    "ax[2][1].set_ylabel('')\n",
    "ax[2][1].set_xlabel('Location Country Income')\n",
    "\n",
    "ax[0][2].set_aspect(aspect=15)\n",
    "ax[1][2].set_aspect(aspect=15)\n",
    "ax[2][2].set_aspect(aspect=15)\n",
    "\n",
    "plt.tight_layout()#pad=0.4, w_pad=0.5, h_pad=1.0)\n",
    "plt.savefig('plots/heatmaps/loc_vs_aff_shared_bars.pdf')"
   ]
  },
  {
   "cell_type": "markdown",
   "metadata": {},
   "source": [
    "B2. Location country by income vs. affiliation country by income (without shared color bars)"
   ]
  },
  {
   "cell_type": "code",
   "execution_count": null,
   "metadata": {},
   "outputs": [],
   "source": [
    "ticks = ['Low', 'Lower\\nmiddle', 'Upper\\nmiddle', 'High']\n",
    "\n",
    "fig, ax = plt.subplots(nrows=3, ncols=2, gridspec_kw={'width_ratios': [5, 5]}, figsize=(8.3,11.7))\n",
    "\n",
    "sns.heatmap(loc_vs_aff_adap, annot=np.array(loc_vs_aff_adap, dtype=int), fmt='d', ax=ax[0][0], yticklabels=ticks, xticklabels=False, cmap='YlGnBu', vmin=0, vmax=loc_vs_aff_adap.max().max())\n",
    "ax[0][0].set_title('Adaptation Studies')\n",
    "ax[0][0].set_ylabel('Affiliation Country Income')\n",
    "ax[0][0].set_xlabel('')\n",
    "\n",
    "sns.heatmap(loc_vs_aff_adap_norm_col, annot=np.array(loc_vs_aff_adap, dtype=int), fmt='d', ax=ax[1][0], yticklabels=ticks, xticklabels=False, cmap='YlGnBu', vmin=0, vmax=loc_vs_aff_adap_norm_col.max().max())\n",
    "ax[1][0].set_title('Normalised by Location Country')\n",
    "ax[1][0].set_ylabel('Affiliation Country Income')\n",
    "ax[1][0].set_xlabel('')\n",
    "\n",
    "sns.heatmap(loc_vs_aff_adap_norm_row, annot=np.array(loc_vs_aff_adap, dtype=int), fmt='d', ax=ax[2][0], yticklabels=ticks, xticklabels=ticks, cmap='YlGnBu', vmin=0, vmax=loc_vs_aff_adap_norm_row.max().max())\n",
    "ax[2][0].set_title('Normalised by Affiliation Country')\n",
    "ax[2][0].set_ylabel('Affiliation Country Income')\n",
    "ax[2][0].set_xlabel('Location Country Income')\n",
    "\n",
    "sns.heatmap(loc_vs_aff_miti, annot=np.array(loc_vs_aff_miti, dtype=int), fmt='d', ax=ax[0][1], xticklabels=False, yticklabels=False, cmap='YlGnBu', vmin=0, vmax=loc_vs_aff_miti.max().max())\n",
    "ax[0][1].set_title('Mitigation Studies')\n",
    "ax[0][1].set_ylabel('')\n",
    "ax[0][1].set_xlabel('')\n",
    "\n",
    "sns.heatmap(loc_vs_aff_miti_norm_col, annot=np.array(loc_vs_aff_miti, dtype=int), fmt='d', ax=ax[1][1], xticklabels=False, yticklabels=False, cmap='YlGnBu', vmin=0, vmax=loc_vs_aff_miti_norm_col.max().max())\n",
    "ax[1][1].set_title('Normalised by Location Country')\n",
    "ax[1][1].set_ylabel('')\n",
    "ax[1][1].set_xlabel('')\n",
    "\n",
    "sns.heatmap(loc_vs_aff_miti_norm_row, annot=np.array(loc_vs_aff_miti, dtype=int), fmt='d', ax=ax[2][1], xticklabels=ticks, yticklabels=False, cmap='YlGnBu', vmin=0, vmax=loc_vs_aff_miti_norm_row.max().max())\n",
    "ax[2][1].set_title('Normalised by Affiliation Country')\n",
    "ax[2][1].set_ylabel('')\n",
    "ax[2][1].set_xlabel('Location Country Income')\n",
    "\n",
    "plt.tight_layout()#pad=0.4, w_pad=0.5, h_pad=1.0)\n",
    "plt.savefig('plots/heatmaps/loc_vs_aff.pdf')"
   ]
  },
  {
   "cell_type": "markdown",
   "metadata": {},
   "source": [
    "C. Topic of study (level 3) vs. country by income (without shared bars)"
   ]
  },
  {
   "cell_type": "code",
   "execution_count": null,
   "metadata": {},
   "outputs": [],
   "source": [
    "vars= list(aff_vs_lev3.index)\n",
    "yticks=[]\n",
    "for n in vars:\n",
    "    x=n.replace('3 - ', '')\n",
    "    x=x.replace(' /', '/')\n",
    "    x=x.replace('/ ', '/')\n",
    "    x=x.replace('public', 'publ.')\n",
    "    x=x.replace('services', 'svcs.')\n",
    "    x=x.replace('', '')\n",
    "    yticks.append(x)\n",
    "\n",
    "xticks = ['Low', 'Lower\\nmiddle', 'Upper\\nmiddle', 'High']\n",
    "\n",
    "fig, ax = plt.subplots(nrows=3, ncols=2, gridspec_kw={'width_ratios': [5, 5]}, figsize=(8.3,11.7))\n",
    "\n",
    "sns.heatmap(aff_vs_lev3, annot=np.array(aff_vs_lev3, dtype=int), fmt='d', ax=ax[0][0], yticklabels=yticks, xticklabels=False, cmap='YlGnBu', vmin=0, vmax=aff_vs_lev3.max().max())\n",
    "ax[0][0].set_title('Studies by Country Affiliation')\n",
    "ax[0][0].set_ylabel('')\n",
    "ax[0][0].set_xlabel('')\n",
    "\n",
    "sns.heatmap(aff_vs_lev3_norm_col, annot=np.array(aff_vs_lev3, dtype=int), fmt='d', ax=ax[1][0], yticklabels=yticks, xticklabels=False, cmap='YlGnBu', vmin=0, vmax=aff_vs_lev3_norm_col.max().max())\n",
    "ax[1][0].set_title('Normalised by Income Group')\n",
    "ax[1][0].set_ylabel('')\n",
    "ax[1][0].set_xlabel('')\n",
    "\n",
    "sns.heatmap(aff_vs_lev3_norm_row, annot=np.array(aff_vs_lev3, dtype=int), fmt='d', ax=ax[2][0], yticklabels=yticks, xticklabels=xticks, cmap='YlGnBu', vmin=0, vmax=aff_vs_lev3_norm_row.max().max())\n",
    "ax[2][0].set_title('Normalised by Study Topic')\n",
    "ax[2][0].set_ylabel('')\n",
    "ax[2][0].set_xlabel('Affiliation Country Income')\n",
    "#ax[2][0].tick_params(labelsize=9)\n",
    "\n",
    "sns.heatmap(loc_vs_lev3, annot=np.array(loc_vs_lev3, dtype=int), fmt='d', ax=ax[0][1], xticklabels=False, yticklabels=False, cmap='YlGnBu', vmin=0, vmax=loc_vs_lev3.max().max())\n",
    "ax[0][1].set_title('Studies by Country Location')\n",
    "ax[0][1].set_ylabel('')\n",
    "ax[0][1].set_xlabel('')\n",
    "\n",
    "sns.heatmap(loc_vs_lev3_norm_col, annot=np.array(loc_vs_lev3, dtype=int), fmt='d', ax=ax[1][1], xticklabels=False, yticklabels=False, cmap='YlGnBu', vmin=0, vmax=loc_vs_lev3_norm_col.max().max())\n",
    "ax[1][1].set_title('Normalised by Income Group')\n",
    "ax[1][1].set_ylabel('')\n",
    "ax[1][1].set_xlabel('')\n",
    "\n",
    "sns.heatmap(loc_vs_lev3_norm_row, annot=np.array(loc_vs_lev3, dtype=int), fmt='d', ax=ax[2][1], xticklabels=xticks, yticklabels=False, cmap='YlGnBu', vmin=0, vmax=loc_vs_lev3_norm_row.max().max())\n",
    "ax[2][1].set_title('Normalised by Study Topic')\n",
    "ax[2][1].set_ylabel('')\n",
    "ax[2][1].set_xlabel('Location Country Income')\n",
    "#ax[2][1].tick_params(labelsize=9)\n",
    "\n",
    "plt.tight_layout()#pad=0.4, w_pad=0.5, h_pad=1.0)\n",
    "plt.savefig('plots/heatmaps/income_vs_lv3.pdf')"
   ]
  },
  {
   "cell_type": "markdown",
   "metadata": {},
   "source": [
    "D. Topic of study (level 4) vs. country by income (without shared bars)"
   ]
  },
  {
   "cell_type": "code",
   "execution_count": null,
   "metadata": {},
   "outputs": [],
   "source": [
    "vars= list(aff_vs_lev4.index)\n",
    "yticks=[]\n",
    "for n in vars:\n",
    "    x=n.replace('certificates', 'certs.')\n",
    "    x=x.replace('Consumption', 'Cons.')\n",
    "    x=x.replace('production', 'prod.')\n",
    "    x=x.replace(' and ', ' & ')\n",
    "    x=x.replace('assessments', 'assmts.')\n",
    "    x=x.replace('monitoring', 'mnt.')\n",
    "    x=x.replace('evaluation', 'eval.')\n",
    "    x=x.replace('information', 'info.')\n",
    "    x=x.replace('services', 'svcs.')\n",
    "    x=x.replace('programs', 'progs.')\n",
    "    x=x.replace('4 - ', '')\n",
    "    x=x.replace(' /', '/')\n",
    "    x=x.replace('/ ', '/')\n",
    "\n",
    "    yticks.append(x)\n",
    "\n",
    "xticks = ['Low', 'Lower\\nmiddle', 'Upper\\nmiddle', 'High']\n",
    "\n",
    "fig, ax = plt.subplots(nrows=3, ncols=2, gridspec_kw={'width_ratios': [5, 5]}, figsize=(8.3,11.7))\n",
    "\n",
    "sns.heatmap(aff_vs_lev4, annot=np.array(aff_vs_lev4, dtype=int), fmt='d', ax=ax[0][0], yticklabels=yticks, xticklabels=False, cmap='YlGnBu', vmin=0, vmax=aff_vs_lev4.max().max())\n",
    "ax[0][0].set_title('Studies by Country Affiliation')\n",
    "ax[0][0].set_ylabel('')\n",
    "ax[0][0].set_xlabel('')\n",
    "ax[0][0].tick_params(labelsize=9)\n",
    "\n",
    "sns.heatmap(aff_vs_lev4_norm_col, annot=np.array(aff_vs_lev4, dtype=int), fmt='d', ax=ax[1][0], yticklabels=yticks, xticklabels=False, cmap='YlGnBu', vmin=0, vmax=aff_vs_lev4_norm_col.max().max())\n",
    "ax[1][0].set_title('Normalised by Income Group')\n",
    "ax[1][0].set_ylabel('')\n",
    "ax[1][0].set_xlabel('')\n",
    "ax[1][0].tick_params(labelsize=9)\n",
    "\n",
    "sns.heatmap(aff_vs_lev4_norm_row, annot=np.array(aff_vs_lev4, dtype=int), fmt='d', ax=ax[2][0], yticklabels=yticks, xticklabels=xticks, cmap='YlGnBu', vmin=0, vmax=aff_vs_lev4_norm_row.max().max())\n",
    "ax[2][0].set_title('Normalised by Study Topic')\n",
    "ax[2][0].set_ylabel('')\n",
    "ax[2][0].set_xlabel('Affiliation Country Income')\n",
    "ax[2][0].tick_params(labelsize=9)\n",
    "\n",
    "sns.heatmap(loc_vs_lev4, annot=np.array(loc_vs_lev4, dtype=int), fmt='d', ax=ax[0][1], xticklabels=False, yticklabels=False, cmap='YlGnBu', vmin=0, vmax=loc_vs_lev4.max().max())\n",
    "ax[0][1].set_title('Studies by Country Location')\n",
    "ax[0][1].set_ylabel('')\n",
    "ax[0][1].set_xlabel('')\n",
    "ax[0][1].tick_params(labelsize=9)\n",
    "\n",
    "sns.heatmap(loc_vs_lev4_norm_col, annot=np.array(loc_vs_lev4, dtype=int), fmt='d', ax=ax[1][1], xticklabels=False, yticklabels=False, cmap='YlGnBu', vmin=0, vmax=loc_vs_lev4_norm_col.max().max())\n",
    "ax[1][1].set_title('Normalised by Income Group')\n",
    "ax[1][1].set_ylabel('')\n",
    "ax[1][1].set_xlabel('')\n",
    "ax[1][1].tick_params(labelsize=9)\n",
    "\n",
    "sns.heatmap(loc_vs_lev4_norm_row, annot=np.array(loc_vs_lev4, dtype=int), fmt='d', ax=ax[2][1], xticklabels=xticks, yticklabels=False, cmap='YlGnBu', vmin=0, vmax=loc_vs_lev4_norm_row.max().max())\n",
    "ax[2][1].set_title('Normalised by Study Topic')\n",
    "ax[2][1].set_ylabel('')\n",
    "ax[2][1].set_xlabel('Location Country Income')\n",
    "ax[2][1].tick_params(labelsize=9)\n",
    "\n",
    "plt.tight_layout()#pad=0.4, w_pad=0.5, h_pad=1.0)\n",
    "plt.savefig('plots/heatmaps/income_vs_lv4.pdf')"
   ]
  }
 ],
 "metadata": {
  "kernelspec": {
   "display_name": "Python 3",
   "language": "python",
   "name": "python3"
  },
  "language_info": {
   "codemirror_mode": {
    "name": "ipython",
    "version": 3
   },
   "file_extension": ".py",
   "mimetype": "text/x-python",
   "name": "python",
   "nbconvert_exporter": "python",
   "pygments_lexer": "ipython3",
   "version": "3.7.7"
  }
 },
 "nbformat": 4,
 "nbformat_minor": 4
}
