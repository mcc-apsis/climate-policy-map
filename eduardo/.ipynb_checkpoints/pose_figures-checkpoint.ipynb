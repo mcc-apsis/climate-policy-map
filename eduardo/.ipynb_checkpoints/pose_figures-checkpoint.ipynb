{
 "cells": [
  {
   "cell_type": "markdown",
   "metadata": {},
   "source": [
    "LOADING"
   ]
  },
  {
   "cell_type": "code",
   "execution_count": null,
   "metadata": {},
   "outputs": [],
   "source": [
    "import matplotlib as mpl\n",
    "import matplotlib.pyplot as plt\n",
    "import cartopy.crs as ccrs\n",
    "import cartopy.io.shapereader as shpreader\n",
    "import pandas as pd\n",
    "import geopy\n",
    "import geopy.distance\n",
    "import numpy as np\n",
    "import shapely.vectorized"
   ]
  },
  {
   "cell_type": "code",
   "execution_count": null,
   "metadata": {},
   "outputs": [],
   "source": [
    "geo = pd.read_csv('data/geo_df.csv')\n",
    "data = pd.read_csv('data/document_ratings.csv')"
   ]
  },
  {
   "cell_type": "markdown",
   "metadata": {},
   "source": [
    "MODIFYING THE DATA"
   ]
  },
  {
   "cell_type": "code",
   "execution_count": null,
   "metadata": {
    "tags": []
   },
   "outputs": [],
   "source": [
    "geo = geo[geo['country_conf'] > 0.8]\n",
    "geo = geo[pd.notnull(geo['country_predicted'])]\n",
    "geo.lat = geo.lat.astype(float)\n",
    "geo.lon = geo.lon.astype(float)"
   ]
  },
  {
   "cell_type": "code",
   "execution_count": null,
   "metadata": {},
   "outputs": [],
   "source": [
    "data_geo = pd.merge(data,geo,left_on=\"id\",right_on=\"doc_id\")"
   ]
  },
  {
   "cell_type": "markdown",
   "metadata": {},
   "source": [
    "DENSITY AND PLOTTING FUNCTIONS"
   ]
  },
  {
   "cell_type": "code",
   "execution_count": null,
   "metadata": {},
   "outputs": [],
   "source": [
    "def new_haversine_np(lon1, lat1, lon2, lat2):\n",
    "    \"\"\"\n",
    "    Calculate the great circle distance between two points\n",
    "    on the earth (specified in decimal degrees)\n",
    "\n",
    "    \"\"\"\n",
    "    lon1, lat1, lon2, lat2 = map(np.radians, [lon1, lat1, lon2, lat2])\n",
    "\n",
    "    dlon = lon2 - lon1[:,None]\n",
    "    dlat = lat2 - lat1[:,None]\n",
    "\n",
    "    a = np.sin(dlat/2.0)**2 + np.cos(lat1[:,None]) * np.cos(lat2) * np.sin(dlon/2.0)**2\n",
    "\n",
    "    c = 2 * np.arcsin(np.sqrt(a))\n",
    "    km = 6367 * c\n",
    "    \n",
    "    return km"
   ]
  },
  {
   "cell_type": "code",
   "execution_count": null,
   "metadata": {
    "tags": []
   },
   "outputs": [],
   "source": [
    "def density_grid(degrees,distance,df):\n",
    "    \n",
    "    df_countries = df[df[\"feature_code\"]==\"PCLI\"]\n",
    "    df_places = df[df[\"feature_code\"]!=\"PCLI\"]\n",
    "\n",
    "    # linspace(start, stop, number of evenly spaced numbers)\n",
    "    latbins = np.linspace(-90,90, round(180/degrees))\n",
    "    lonbins = np.linspace(-180,180, round(360/degrees))\n",
    "\n",
    "    n = np.zeros((len(latbins),len(lonbins)))\n",
    "    \n",
    "    print(f\"calculating density grid of size: {n.size}\")\n",
    "\n",
    "    for i,lat in enumerate(latbins):\n",
    "        # Calculating the geodesic distance between two points\n",
    "        r = geopy.distance.distance(kilometers=distance)\n",
    "        latp = geopy.Point((lat,135))\n",
    "        # if the latitude is closer than distance to the north pole, then the northern bound should be \n",
    "        # the north pole, not distancekm north of the latitude (which will pass the pole and go south again)\n",
    "        if geopy.distance.great_circle(latp,(90,135)).km < distance:\n",
    "            r_nbound = 90   \n",
    "        else:\n",
    "            r_nbound = r.destination(point=latp,bearing=0).latitude\n",
    "        # Same as above for the south pole\n",
    "        if geopy.distance.great_circle(latp,(-90,135)).km < distance:\n",
    "            r_sbound = -90   \n",
    "        else:\n",
    "            r_sbound = r.destination(point=latp,bearing=180).latitude        \n",
    "\n",
    "        latbound_df = df_places[\n",
    "            (df_places.lat>=r_sbound) &\n",
    "            (df_places.lat<=r_nbound)        \n",
    "        ]\n",
    "\n",
    "        ds = new_haversine_np(latbound_df['lon'], latbound_df['lat'],lonbins,[lat]*len(lonbins))\n",
    "\n",
    "        n[i,:] = np.where(ds<distance,1,0).sum(axis=0)\n",
    "        \n",
    "    print(\"done\")\n",
    "    \n",
    "    shpfilename = shpreader.natural_earth(resolution='110m',\n",
    "                                          category='cultural',\n",
    "                                          name='admin_0_countries')\n",
    "    reader = shpreader.Reader(shpfilename)\n",
    "    yv, xv = np.meshgrid(latbins, lonbins)\n",
    "\n",
    "    for country in reader.records():\n",
    "        incountry = shapely.vectorized.contains(country.geometry,xv,yv)\n",
    "        idx = np.argwhere(incountry==True)\n",
    "        ndots = idx.size/2\n",
    "        cdf = df_countries[df_countries[\"country_predicted\"]==country.attributes[\"SU_A3\"]]\n",
    "        for point in idx:\n",
    "            n[point[1],point[0]] += cdf.shape[0]/ndots\n",
    "\n",
    "    return latbins, lonbins, n"
   ]
  },
  {
   "cell_type": "code",
   "execution_count": null,
   "metadata": {},
   "outputs": [],
   "source": [
    "def filter(df, cat, prob=0.5):\n",
    "    filtered = df.copy()\n",
    "    filtered = filtered[filtered['']]\n",
    "    if(cat == 'All' or cat == 'all'):\n",
    "        filtered = \n",
    "    else:\n",
    "        filtered = df[df[cat]>prob]\n",
    "    return filtered"
   ]
  },
  {
   "cell_type": "code",
   "execution_count": null,
   "metadata": {},
   "outputs": [],
   "source": [
    "def plot_map(cat, degrees, distance, df, file_name, dpi=150, width=8, height=5):\n",
    "    fig, ax = plt.subplots(dpi=dpi, figsize=(width, height))\n",
    "    p = ccrs.Mollweide()\n",
    "    ax = plt.axes(projection=p)\n",
    "    ax.set_global()\n",
    "    ax.coastlines(lw=0.1)\n",
    "\n",
    "    filtered = filter(df, cat)\n",
    "    latbins, lonbins, n = density_grid(degrees,distance,filtered)\n",
    "\n",
    "    vm = n[~np.isnan(n)].max()\n",
    "    n[n == 0] = np.nan\n",
    "\n",
    "    pcm = plt.pcolormesh( \n",
    "        lonbins, latbins, n,\n",
    "        transform=ccrs.PlateCarree(),\n",
    "        norm=mpl.colors.LogNorm(vmin=1, vmax=vm),\n",
    "        alpha=0.5,\n",
    "        cmap=\"YlGnBu\"\n",
    "    )\n",
    "\n",
    "    fig.colorbar(pcm)\n",
    "    ax.set_title(file_name.replace(\"_\", \" \"))\n",
    "    filename = 'plots/' + file_name + '.pdf'\n",
    "    plt.savefig(filename)"
   ]
  },
  {
   "cell_type": "code",
   "execution_count": null,
   "metadata": {},
   "outputs": [],
   "source": [
    "data_geo.columns"
   ]
  },
  {
   "cell_type": "code",
   "execution_count": null,
   "metadata": {},
   "outputs": [],
   "source": [
    "def create_list_of_categories(df):\n",
    "    data = df.copy()\n",
    "    \n",
    "    cats0 = [c for c  in data.columns if \"-\" in c and \"prediction\" not in c]\n",
    "    preds0 = [c for c in data.columns if \"prediction\" in c]\n",
    "    cats = []\n",
    "    preds = []\n",
    "    for c in cats0:\n",
    "        c.replace(\"<hidden>\", \"\")\n",
    "        for d in preds0:\n",
    "            if c in d:\n",
    "                cats.append(c)\n",
    "                preds.append(d)\n",
    "    return cats, preds\n",
    "\n",
    "cats1, preds1 = create_list_of_categories(data_geo)\n"
   ]
  },
  {
   "cell_type": "code",
   "execution_count": null,
   "metadata": {},
   "outputs": [],
   "source": [
    "def plot_maps(df, categories):\n",
    "    for counter, c in enumerate(categories):\n",
    "        name = c.split(' - ')[1].replace(\" \",\"_\")\n",
    "        plot_map(c, 1, 100, df, name)\n",
    "        print(str(counter/len(categories)) + '%')"
   ]
  },
  {
   "cell_type": "code",
   "execution_count": null,
   "metadata": {},
   "outputs": [],
   "source": [
    "test = data.head()"
   ]
  },
  {
   "cell_type": "code",
   "execution_count": null,
   "metadata": {},
   "outputs": [],
   "source": [
    "colors = ['#8dd3c7','#ffffb3','#bebada','#fb8072','#80b1d3']\n",
    "colors = ['#1b9e77','#d95f02','#7570b3','#e7298a','#66a61e']\n",
    "colors = ['#7fc97f','#beaed4','#fdc086']\n",
    "pdf = df_geo[df_geo['feature_code']!=\"PCLI\"]\n",
    "import cartopy\n",
    "\n",
    "for i,c in enumerate(pred_cats):\n",
    "    fig, ax = plt.subplots(dpi=150, figsize=(8,5))\n",
    "    ax = plt.axes(projection=ccrs.PlateCarree())\n",
    "    ax.coastlines(lw=0.1)\n",
    "    ax.add_feature(cartopy.feature.BORDERS, linestyle=':',lw=0.05)\n",
    "    ax.stock_img(alpha=0.2)\n",
    "    ax.set_global()\n",
    "    ax.set_title(c)\n",
    "    for j, ac in enumerate(attrib_cats):\n",
    "        col = colors[j]\n",
    "        ax.scatter(\n",
    "            pdf[(pdf[c]>=0.5)&(pdf[ac]>0.5)]['lon'], pdf[(pdf[c]>=0.5)&(pdf[ac]>0.5)]['lat'],\n",
    "            alpha=0.5,s=2,label=None,c=col,edgecolor=\"grey\",linewidth=0.5)\n",
    "        ax.scatter([],[],alpha=0.5,label=ac,c=col)\n",
    "    \n",
    "    ax.legend(fontsize=6, bbox_to_anchor=(1,-0.05),ncol=2, fancybox=True,shadow=True)\n",
    "    cname = c.split(' - ')[1].replace(\" \",\"_\")\n",
    "    plt.savefig(f'../plots/maps/predicted_places_{cname}_attribution.png',dpi=500)\n",
    "    plt.savefig(f'../plots/maps/predicted_places_{cname}_attribution.pdf')"
   ]
  }
 ],
 "metadata": {
  "language_info": {
   "codemirror_mode": {
    "name": "ipython",
    "version": 3
   },
   "file_extension": ".py",
   "mimetype": "text/x-python",
   "name": "python",
   "nbconvert_exporter": "python",
   "pygments_lexer": "ipython3",
   "version": "3.7.6-final"
  },
  "orig_nbformat": 2,
  "kernelspec": {
   "name": "python3",
   "display_name": "Python 3"
  }
 },
 "nbformat": 4,
 "nbformat_minor": 2
}